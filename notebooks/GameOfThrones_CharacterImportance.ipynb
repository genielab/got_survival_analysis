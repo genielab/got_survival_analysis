{
 "cells": [
  {
   "cell_type": "code",
   "execution_count": 28,
   "metadata": {},
   "outputs": [],
   "source": [
    "import os\n",
    "import pandas as pd\n",
    "import numpy as np\n",
    "from dplython import (DplyFrame, X, diamonds, select, sift, sample_n, sample_frac, arrange, mutate, group_by, summarize)\n",
    "\n",
    "import plotly.plotly\n",
    "import plotly.graph_objs as go\n",
    "import plotly.offline as offline\n",
    "from plotly.graph_objs import *\n",
    "from plotly.offline import download_plotlyjs, init_notebook_mode, plot, iplot\n",
    "import plotly.figure_factory as ff\n",
    "from plotly import tools\n",
    "\n",
    "import matplotlib.pyplot as plt\n",
    "%matplotlib inline\n",
    "%config IPCompleter.greedy=True\n",
    "\n",
    "out_dir = '/Users/genie/dev/projects/jupyter_lab/out'\n",
    "os.chdir(out_dir)\n",
    "\n",
    "include_plotlyjs=True"
   ]
  },
  {
   "cell_type": "code",
   "execution_count": 29,
   "metadata": {},
   "outputs": [],
   "source": [
    "data_path = '/Users/genie/data/game_of_thrones/got_characters_s1_to_s7.csv'\n",
    "character_df = pd.read_csv(data_path,quotechar='\"',na_values='',encoding = \"ISO-8859-1\")"
   ]
  },
  {
   "cell_type": "code",
   "execution_count": 30,
   "metadata": {},
   "outputs": [],
   "source": [
    "character_df['total_screen_time'] = character_df.apply(lambda x: sum([x['s'+str(i)+'_screenTime'] for i in range(1,8)]), axis=1)\n",
    "character_df['num_of_episodes_appeared'] = character_df.apply(lambda x: sum([x['s'+str(i)+'_episodes'] for i in range(1,8)]), axis=1)\n",
    "character_df['num_of_people_killed'] = character_df.apply(lambda x: sum([x['s'+str(i)+'_numKilled'] for i in range(1,8)]), axis=1)"
   ]
  },
  {
   "cell_type": "code",
   "execution_count": 31,
   "metadata": {},
   "outputs": [
    {
     "name": "stdout",
     "output_type": "stream",
     "text": [
      "<class 'pandas.core.frame.DataFrame'>\n",
      "RangeIndex: 368 entries, 0 to 367\n",
      "Data columns (total 66 columns):\n",
      "character_name                      368 non-null object\n",
      "gender                              147 non-null object\n",
      "house                               86 non-null object\n",
      "spouse                              43 non-null object\n",
      "parents                             56 non-null object\n",
      "siblings                            56 non-null object\n",
      "parent_of                           37 non-null object\n",
      "royal                               368 non-null int64\n",
      "kingsguard                          368 non-null int64\n",
      "s1_episodes                         368 non-null int64\n",
      "s1_screenTime                       368 non-null float64\n",
      "s1_numOfCharactersInteractedWith    368 non-null int64\n",
      "s1_numKilled                        368 non-null int64\n",
      "s1_bc                               368 non-null float64\n",
      "s1_ec                               368 non-null float64\n",
      "s1_shareOfScreenTime                368 non-null float64\n",
      "s2_episodes                         368 non-null int64\n",
      "s2_screenTime                       368 non-null float64\n",
      "s2_numOfCharactersInteractedWith    368 non-null int64\n",
      "s2_numKilled                        368 non-null int64\n",
      "s2_bc                               368 non-null float64\n",
      "s2_ec                               368 non-null float64\n",
      "s2_shareOfScreenTime                368 non-null float64\n",
      "s3_episodes                         368 non-null int64\n",
      "s3_screenTime                       368 non-null float64\n",
      "s3_numOfCharactersInteractedWith    368 non-null int64\n",
      "s3_numKilled                        368 non-null int64\n",
      "s3_bc                               368 non-null float64\n",
      "s3_ec                               368 non-null float64\n",
      "s3_shareOfScreenTime                368 non-null float64\n",
      "s4_episodes                         368 non-null int64\n",
      "s4_screenTime                       368 non-null float64\n",
      "s4_numOfCharactersInteractedWith    368 non-null int64\n",
      "s4_numKilled                        368 non-null int64\n",
      "s4_bc                               368 non-null float64\n",
      "s4_ec                               368 non-null float64\n",
      "s4_shareOfScreenTime                368 non-null float64\n",
      "s5_episodes                         368 non-null int64\n",
      "s5_screenTime                       368 non-null float64\n",
      "s5_numOfCharactersInteractedWith    368 non-null int64\n",
      "s5_numKilled                        368 non-null int64\n",
      "s5_bc                               368 non-null float64\n",
      "s5_ec                               368 non-null float64\n",
      "s5_shareOfScreenTime                368 non-null float64\n",
      "s6_episodes                         368 non-null int64\n",
      "s6_screenTime                       368 non-null float64\n",
      "s6_numOfCharactersInteractedWith    368 non-null int64\n",
      "s6_numKilled                        368 non-null int64\n",
      "s6_bc                               368 non-null float64\n",
      "s6_ec                               368 non-null float64\n",
      "s6_shareOfScreenTime                368 non-null float64\n",
      "s7_episodes                         368 non-null int64\n",
      "s7_screenTime                       368 non-null float64\n",
      "s7_numOfCharactersInteractedWith    368 non-null int64\n",
      "s7_numKilled                        368 non-null int64\n",
      "s7_bc                               368 non-null float64\n",
      "s7_ec                               368 non-null float64\n",
      "s7_shareOfScreenTime                368 non-null float64\n",
      "is_dead                             368 non-null int64\n",
      "manner_of_death                     117 non-null object\n",
      "killed_by                           155 non-null object\n",
      "dead_in_season                      165 non-null object\n",
      "duration_in_episodes                368 non-null int64\n",
      "total_screen_time                   368 non-null float64\n",
      "num_of_episodes_appeared            368 non-null int64\n",
      "num_of_people_killed                368 non-null int64\n",
      "dtypes: float64(29), int64(27), object(10)\n",
      "memory usage: 189.8+ KB\n"
     ]
    }
   ],
   "source": [
    "character_df.info()"
   ]
  },
  {
   "cell_type": "code",
   "execution_count": 49,
   "metadata": {},
   "outputs": [
    {
     "data": {
      "text/plain": [
       "'file:///Users/genie/dev/projects/jupyter_lab/out/test.html'"
      ]
     },
     "execution_count": 49,
     "metadata": {},
     "output_type": "execute_result"
    }
   ],
   "source": [
    "# chart of characters\n",
    "df2 = character_df\n",
    "df2 = df2[df2.house.notnull()]\n",
    "df2['house'] = df2.apply(lambda x: x['house'].split(';')[0], axis=1)\n",
    "\n",
    "# chart\n",
    "categories = list(df2['house'].unique())\n",
    "seasons = [1,2,3,4,5,6,7]\n",
    "\n",
    "figure = {\n",
    "    'data': [],\n",
    "    'layout': {},\n",
    "    'frames': []\n",
    "}\n",
    "\n",
    "figure['layout']['xaxis'] = {'range': [0, 150], 'title': 'screen time (mins)'}\n",
    "figure['layout']['yaxis'] = {'range': [0, 0.6], 'tick0': 0, 'dtick':0.05, 'title': 'eigen vector centrality'}\n",
    "figure['layout']['title'] = 'Game of Thrones Character Importance (Season1-7) <br><span style=\"font-size:x-small;width:50%;\">NOTE: This is an interactive chart, please hover over individual bubbles for more detailed information. Also you may selectively enable or disable legend items to isolate individual category or more.</span>'\n",
    "\n",
    "figure['layout']['hovermode'] = 'closest'\n",
    "figure['layout']['legend'] = { 'font' : {'family':'sans-serif','size':12} }\n",
    "figure['layout']['sliders'] = {\n",
    "    'args': [\n",
    "        'transition', {\n",
    "            'duration': 400,\n",
    "            'easing': 'cubic-in-out'\n",
    "        }\n",
    "    ],\n",
    "    'initialValue': 1,\n",
    "    'plotlycommand': 'animate',\n",
    "    'values': seasons,\n",
    "    'visible': True\n",
    "}\n",
    "\n",
    "figure['layout']['updatemenus'] = [\n",
    "    {\n",
    "        'buttons': [\n",
    "            {\n",
    "                'args': [None, {'frame': {'duration': 500, 'redraw': False},\n",
    "                         'fromcurrent': True, 'transition': {'duration': 300, 'easing': 'quadratic-in-out'}}],\n",
    "                'label': 'Play',\n",
    "                'method': 'animate'\n",
    "            },\n",
    "            {\n",
    "                'args': [[None], {'frame': {'duration': 0, 'redraw': False}, 'mode': 'immediate',\n",
    "                'transition': {'duration': 0}}],\n",
    "                'label': 'Pause',\n",
    "                'method': 'animate'\n",
    "            }\n",
    "        ],\n",
    "        'direction': 'left',\n",
    "        'pad': {'r': 10, 't': 87},\n",
    "        'showactive': False,\n",
    "        'type': 'buttons',\n",
    "        'x': 0.1,\n",
    "        'xanchor': 'right',\n",
    "        'y': 0,\n",
    "        'yanchor': 'top'\n",
    "    }\n",
    "]\n",
    "\n",
    "sliders_dict = {\n",
    "    'active': 0,\n",
    "    'yanchor': 'top',\n",
    "    'xanchor': 'left',\n",
    "    'currentvalue': {\n",
    "        'font': {'size': 20},\n",
    "        'prefix': '',\n",
    "        'visible': True,\n",
    "        'xanchor': 'right'\n",
    "    },\n",
    "    'transition': {'duration': 300, 'easing': 'cubic-in-out'},\n",
    "    'pad': {'b': 10, 't': 50},\n",
    "    'len': 0.9,\n",
    "    'x': 0.1,\n",
    "    'y': 0,\n",
    "    'steps': []\n",
    "}\n",
    "\n",
    "# make data\n",
    "season = seasons[0]\n",
    "for category in categories:\n",
    "#     dataset_by_year = df2[df2.fiscal_year == year]\n",
    "#     dataset_by_year_and_cat = dataset_by_year[dataset_by_year.category == category]\n",
    "    dataset = df2[df2.house == category]\n",
    "\n",
    "    data_dict = {\n",
    "        'x': list(dataset['s1_screenTime']),\n",
    "        'y': list(dataset['s1_ec']),\n",
    "        'mode': 'markers',\n",
    "        'text': list(dataset['character_name']),\n",
    "        'marker': {\n",
    "            'sizemode': 'area',\n",
    "            'sizeref': 0.1,\n",
    "            'size': list(dataset['s1_screenTime'])\n",
    "        },\n",
    "        'name': category\n",
    "    }\n",
    "    figure['data'].append(data_dict)\n",
    "    \n",
    "# make frames\n",
    "for season in seasons:\n",
    "    frame = {'data': [], 'name': str(season)}\n",
    "    season_prefix = 's' + str(season) + '_'\n",
    "    for category in categories:\n",
    "        dataset = df2[df2.house == category]\n",
    "\n",
    "        data_dict = {\n",
    "            'x': list(dataset[season_prefix+'screenTime']),\n",
    "            'y': list(dataset[season_prefix+'ec']),\n",
    "            'mode': 'markers',\n",
    "            'text': list(dataset['character_name']),\n",
    "            'marker': {\n",
    "                'sizemode': 'area',\n",
    "                'sizeref': 0.1,\n",
    "                'size': list(dataset[season_prefix + 'screenTime'])\n",
    "            },\n",
    "            'name': category\n",
    "        }\n",
    "        frame['data'].append(data_dict)\n",
    "\n",
    "    figure['frames'].append(frame)\n",
    "    slider_step = {'args': [\n",
    "        [season],\n",
    "        {'frame': {'duration': 300, 'redraw': False},\n",
    "         'mode': 'immediate',\n",
    "       'transition': {'duration': 300}}\n",
    "     ],\n",
    "     'label': 'Season' + str(season),\n",
    "     'method': 'animate'}\n",
    "    sliders_dict['steps'].append(slider_step)\n",
    "\n",
    "    \n",
    "figure['layout']['sliders'] = [sliders_dict]\n",
    "\n",
    "plotly.offline.plot(figure, include_plotlyjs=include_plotlyjs, filename='got_character_importance_s1_s7.html')"
   ]
  },
  {
   "cell_type": "code",
   "execution_count": 69,
   "metadata": {},
   "outputs": [
    {
     "data": {
      "text/plain": [
       "'file:///Users/genie/dev/projects/jupyter_lab/out/test2.html'"
      ]
     },
     "execution_count": 69,
     "metadata": {},
     "output_type": "execute_result"
    }
   ],
   "source": [
    "### death count by season\n",
    "\n",
    "seasons = [1,2,3,4,5,6,7] \n",
    "\n",
    "x_labels = seasons\n",
    "y_labels =['death count']\n",
    "\n",
    "x_data = []\n",
    "for x_season in seasons:\n",
    "    count = character_df[character_df.dead_in_season=='s'+str(x_season)]['character_name'].count()\n",
    "    x_data.append([count])\n",
    "\n",
    "traces = []\n",
    "for ylabel_idx,y_label in enumerate(y_labels):\n",
    "    ylabel_data_points = [x_data[x_idx][ylabel_idx] for x_idx in range(len(x_data))]\n",
    "    traces.append(go.Bar(x=seasons,y=ylabel_data_points,name=y_labels[ylabel_idx]))\n",
    "    \n",
    "data = [traces[i] for i in range(len(traces))]\n",
    "\n",
    "title = 'Game of Thrones Character Death Count (Season1-7) <br><span style=\"font-size:x-small;width:50%;\">NOTE: only characters with considerable screen time included in death counts, but not the army people</span>'\n",
    "\n",
    "layout = go.Layout(barmode='stack', title=title, yaxis=dict(title='death count'))\n",
    "\n",
    "fig = go.Figure(data=data, layout=layout)\n",
    "plotly.offline.plot(fig, include_plotlyjs=include_plotlyjs, filename='got_death_count_by_season.html')"
   ]
  },
  {
   "cell_type": "code",
   "execution_count": 90,
   "metadata": {},
   "outputs": [
    {
     "data": {
      "text/plain": [
       "'file:///Users/genie/dev/projects/jupyter_lab/out/got_num_of_people_killed_by_every_character.html'"
      ]
     },
     "execution_count": 90,
     "metadata": {},
     "output_type": "execute_result"
    }
   ],
   "source": [
    "## num of people killed by every character (all seasons combined)\n",
    "\n",
    "df2 = character_df[character_df.num_of_people_killed>1][['character_name','num_of_people_killed']].sort_values(by=['num_of_people_killed'],ascending=False).head(50)\n",
    "\n",
    "data = [go.Bar(\n",
    "            x=list(df2['character_name'].values),\n",
    "            y=list(df2['num_of_people_killed'].values)\n",
    "    )]\n",
    "\n",
    "layout = go.Layout(barmode='stack', title='Num of People Killed by Characters in GoT (Season1-7)', yaxis=dict(title='death count'))\n",
    "\n",
    "fig = go.Figure(data=data, layout=layout)\n",
    "plotly.offline.plot(fig, include_plotlyjs=include_plotlyjs, filename='got_num_of_people_killed_by_every_character.html')\n"
   ]
  },
  {
   "cell_type": "code",
   "execution_count": 86,
   "metadata": {},
   "outputs": [
    {
     "data": {
      "text/plain": [
       "'file:///Users/genie/dev/projects/jupyter_lab/out/got_common_death_types.html'"
      ]
     },
     "execution_count": 86,
     "metadata": {},
     "output_type": "execute_result"
    }
   ],
   "source": [
    "# common death types\n",
    "\n",
    "df2 = DplyFrame(character_df) >> sift(X.manner_of_death.notnull()) >> group_by(X.manner_of_death) >> summarize(total=X.character_name.count())\n",
    "df2 = df2.sort_values(by=['total'],ascending=False).head(20)\n",
    "\n",
    "data = [go.Bar(\n",
    "            x=list(df2['manner_of_death'].values),\n",
    "            y=list(df2['total'].values)\n",
    "    )]\n",
    "\n",
    "layout = go.Layout(barmode='stack', title='Most common type of death in GoT (Season1-7)', yaxis=dict(title='death count'))\n",
    "\n",
    "fig = go.Figure(data=data, layout=layout)\n",
    "plotly.offline.plot(fig, include_plotlyjs=include_plotlyjs, filename='got_common_death_types.html')"
   ]
  },
  {
   "cell_type": "code",
   "execution_count": 103,
   "metadata": {},
   "outputs": [
    {
     "name": "stdout",
     "output_type": "stream",
     "text": [
      "Daenerys Targaryen:  ['Burning', 'Dragon', 'Safe']\n",
      "Jon Snow:  ['Arrow', 'Burning', 'Chest stab', 'Decapitation', 'Face stab', 'Head crush']\n",
      "Arya Stark:  ['Chest stab', 'Multiple stabs', 'Neck stab', 'Throat slash']\n",
      "Cersei Lannister:  ['Poison', 'Wildfire']\n"
     ]
    }
   ],
   "source": [
    "# How do they kill the most?\n",
    "\n",
    "df2 = character_df[(character_df.killed_by.notnull()) & (character_df.killed_by.str.contains('Daenerys Targaryen')) ]\n",
    "df2 = DplyFrame(df2) >> sift(X.manner_of_death.notnull()) >> group_by(X.manner_of_death) >> summarize(total=X.character_name.count())\n",
    "print('Daenerys Targaryen: ', list(df2['manner_of_death'].unique()))\n",
    "\n",
    "df2 = character_df[(character_df.killed_by.notnull()) & (character_df.killed_by.str.contains('Jon Snow')) ]\n",
    "df2 = DplyFrame(df2) >> sift(X.manner_of_death.notnull()) >> group_by(X.manner_of_death) >> summarize(total=X.character_name.count())\n",
    "print('Jon Snow: ' , list(df2['manner_of_death'].unique()))\n",
    "\n",
    "df2 = character_df[(character_df.killed_by.notnull()) & (character_df.killed_by.str.contains('Arya Stark')) ]\n",
    "df2 = DplyFrame(df2) >> sift(X.manner_of_death.notnull()) >> group_by(X.manner_of_death) >> summarize(total=X.character_name.count())\n",
    "print('Arya Stark: ' , list(df2['manner_of_death'].unique()))\n",
    "\n",
    "df2 = character_df[(character_df.killed_by.notnull()) & (character_df.killed_by.str.contains('Cersei Lannister')) ]\n",
    "df2 = DplyFrame(df2) >> sift(X.manner_of_death.notnull()) >> group_by(X.manner_of_death) >> summarize(total=X.character_name.count())\n",
    "print('Cersei Lannister: ' , list(df2['manner_of_death'].unique()))"
   ]
  },
  {
   "cell_type": "code",
   "execution_count": null,
   "metadata": {},
   "outputs": [],
   "source": []
  }
 ],
 "metadata": {
  "kernelspec": {
   "display_name": "Python 3",
   "language": "python",
   "name": "python3"
  },
  "language_info": {
   "codemirror_mode": {
    "name": "ipython",
    "version": 3
   },
   "file_extension": ".py",
   "mimetype": "text/x-python",
   "name": "python",
   "nbconvert_exporter": "python",
   "pygments_lexer": "ipython3",
   "version": "3.7.1"
  }
 },
 "nbformat": 4,
 "nbformat_minor": 2
}
